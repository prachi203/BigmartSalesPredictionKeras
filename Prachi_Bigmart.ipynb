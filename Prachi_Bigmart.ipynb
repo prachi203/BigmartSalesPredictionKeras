{
  "nbformat": 4,
  "nbformat_minor": 0,
  "metadata": {
    "colab": {
      "provenance": []
    },
    "kernelspec": {
      "name": "python3",
      "display_name": "Python 3"
    },
    "language_info": {
      "name": "python"
    }
  },
  "cells": [
    {
      "cell_type": "code",
      "execution_count": 61,
      "metadata": {
        "id": "lT8s_7iTqosr"
      },
      "outputs": [],
      "source": [
        "import pandas as pd\n",
        "import matplotlib.pyplot as plt\n",
        "import numpy as np"
      ]
    },
    {
      "cell_type": "code",
      "source": [
        "df=pd.read_csv('train_XnW6LSF.csv')\n",
        "df1=pd.read_csv('test_FewQE9B.csv')"
      ],
      "metadata": {
        "id": "TVvJb0dOq1jX"
      },
      "execution_count": 62,
      "outputs": []
    },
    {
      "cell_type": "code",
      "source": [
        "print(df.shape,df1.shape)"
      ],
      "metadata": {
        "colab": {
          "base_uri": "https://localhost:8080/"
        },
        "id": "D-5X9lMtrAEy",
        "outputId": "24a270ce-6cf2-4e00-9dbc-94744c8dddfe"
      },
      "execution_count": 63,
      "outputs": [
        {
          "output_type": "stream",
          "name": "stdout",
          "text": [
            "(8523, 12) (5681, 11)\n"
          ]
        }
      ]
    },
    {
      "cell_type": "code",
      "source": [
        "df['source']='Train'\n",
        "df1['source']='Test'"
      ],
      "metadata": {
        "id": "agCG16-crgBu"
      },
      "execution_count": 64,
      "outputs": []
    },
    {
      "cell_type": "code",
      "source": [
        "newdf=pd.concat([df,df1])"
      ],
      "metadata": {
        "id": "A2D2PVXNrDTq"
      },
      "execution_count": 65,
      "outputs": []
    },
    {
      "cell_type": "code",
      "source": [
        "newdf.head(2)"
      ],
      "metadata": {
        "colab": {
          "base_uri": "https://localhost:8080/",
          "height": 211
        },
        "id": "qr_DPRS_rJo0",
        "outputId": "ad1f85b8-0d30-4347-905f-451d7b7c7fbe"
      },
      "execution_count": 66,
      "outputs": [
        {
          "output_type": "execute_result",
          "data": {
            "text/plain": [
              "  Item_Identifier  Item_Weight Item_Fat_Content  Item_Visibility    Item_Type  \\\n",
              "0           FDA15         9.30          Low Fat         0.016047        Dairy   \n",
              "1           DRC01         5.92          Regular         0.019278  Soft Drinks   \n",
              "\n",
              "   Item_MRP Outlet_Identifier  Outlet_Establishment_Year Outlet_Size  \\\n",
              "0  249.8092            OUT049                       1999      Medium   \n",
              "1   48.2692            OUT018                       2009      Medium   \n",
              "\n",
              "  Outlet_Location_Type        Outlet_Type  Item_Outlet_Sales source  \n",
              "0               Tier 1  Supermarket Type1          3735.1380  Train  \n",
              "1               Tier 3  Supermarket Type2           443.4228  Train  "
            ],
            "text/html": [
              "\n",
              "  <div id=\"df-d28d8ce4-c19f-4c65-b869-4d2dac303cdc\">\n",
              "    <div class=\"colab-df-container\">\n",
              "      <div>\n",
              "<style scoped>\n",
              "    .dataframe tbody tr th:only-of-type {\n",
              "        vertical-align: middle;\n",
              "    }\n",
              "\n",
              "    .dataframe tbody tr th {\n",
              "        vertical-align: top;\n",
              "    }\n",
              "\n",
              "    .dataframe thead th {\n",
              "        text-align: right;\n",
              "    }\n",
              "</style>\n",
              "<table border=\"1\" class=\"dataframe\">\n",
              "  <thead>\n",
              "    <tr style=\"text-align: right;\">\n",
              "      <th></th>\n",
              "      <th>Item_Identifier</th>\n",
              "      <th>Item_Weight</th>\n",
              "      <th>Item_Fat_Content</th>\n",
              "      <th>Item_Visibility</th>\n",
              "      <th>Item_Type</th>\n",
              "      <th>Item_MRP</th>\n",
              "      <th>Outlet_Identifier</th>\n",
              "      <th>Outlet_Establishment_Year</th>\n",
              "      <th>Outlet_Size</th>\n",
              "      <th>Outlet_Location_Type</th>\n",
              "      <th>Outlet_Type</th>\n",
              "      <th>Item_Outlet_Sales</th>\n",
              "      <th>source</th>\n",
              "    </tr>\n",
              "  </thead>\n",
              "  <tbody>\n",
              "    <tr>\n",
              "      <th>0</th>\n",
              "      <td>FDA15</td>\n",
              "      <td>9.30</td>\n",
              "      <td>Low Fat</td>\n",
              "      <td>0.016047</td>\n",
              "      <td>Dairy</td>\n",
              "      <td>249.8092</td>\n",
              "      <td>OUT049</td>\n",
              "      <td>1999</td>\n",
              "      <td>Medium</td>\n",
              "      <td>Tier 1</td>\n",
              "      <td>Supermarket Type1</td>\n",
              "      <td>3735.1380</td>\n",
              "      <td>Train</td>\n",
              "    </tr>\n",
              "    <tr>\n",
              "      <th>1</th>\n",
              "      <td>DRC01</td>\n",
              "      <td>5.92</td>\n",
              "      <td>Regular</td>\n",
              "      <td>0.019278</td>\n",
              "      <td>Soft Drinks</td>\n",
              "      <td>48.2692</td>\n",
              "      <td>OUT018</td>\n",
              "      <td>2009</td>\n",
              "      <td>Medium</td>\n",
              "      <td>Tier 3</td>\n",
              "      <td>Supermarket Type2</td>\n",
              "      <td>443.4228</td>\n",
              "      <td>Train</td>\n",
              "    </tr>\n",
              "  </tbody>\n",
              "</table>\n",
              "</div>\n",
              "      <button class=\"colab-df-convert\" onclick=\"convertToInteractive('df-d28d8ce4-c19f-4c65-b869-4d2dac303cdc')\"\n",
              "              title=\"Convert this dataframe to an interactive table.\"\n",
              "              style=\"display:none;\">\n",
              "        \n",
              "  <svg xmlns=\"http://www.w3.org/2000/svg\" height=\"24px\"viewBox=\"0 0 24 24\"\n",
              "       width=\"24px\">\n",
              "    <path d=\"M0 0h24v24H0V0z\" fill=\"none\"/>\n",
              "    <path d=\"M18.56 5.44l.94 2.06.94-2.06 2.06-.94-2.06-.94-.94-2.06-.94 2.06-2.06.94zm-11 1L8.5 8.5l.94-2.06 2.06-.94-2.06-.94L8.5 2.5l-.94 2.06-2.06.94zm10 10l.94 2.06.94-2.06 2.06-.94-2.06-.94-.94-2.06-.94 2.06-2.06.94z\"/><path d=\"M17.41 7.96l-1.37-1.37c-.4-.4-.92-.59-1.43-.59-.52 0-1.04.2-1.43.59L10.3 9.45l-7.72 7.72c-.78.78-.78 2.05 0 2.83L4 21.41c.39.39.9.59 1.41.59.51 0 1.02-.2 1.41-.59l7.78-7.78 2.81-2.81c.8-.78.8-2.07 0-2.86zM5.41 20L4 18.59l7.72-7.72 1.47 1.35L5.41 20z\"/>\n",
              "  </svg>\n",
              "      </button>\n",
              "      \n",
              "  <style>\n",
              "    .colab-df-container {\n",
              "      display:flex;\n",
              "      flex-wrap:wrap;\n",
              "      gap: 12px;\n",
              "    }\n",
              "\n",
              "    .colab-df-convert {\n",
              "      background-color: #E8F0FE;\n",
              "      border: none;\n",
              "      border-radius: 50%;\n",
              "      cursor: pointer;\n",
              "      display: none;\n",
              "      fill: #1967D2;\n",
              "      height: 32px;\n",
              "      padding: 0 0 0 0;\n",
              "      width: 32px;\n",
              "    }\n",
              "\n",
              "    .colab-df-convert:hover {\n",
              "      background-color: #E2EBFA;\n",
              "      box-shadow: 0px 1px 2px rgba(60, 64, 67, 0.3), 0px 1px 3px 1px rgba(60, 64, 67, 0.15);\n",
              "      fill: #174EA6;\n",
              "    }\n",
              "\n",
              "    [theme=dark] .colab-df-convert {\n",
              "      background-color: #3B4455;\n",
              "      fill: #D2E3FC;\n",
              "    }\n",
              "\n",
              "    [theme=dark] .colab-df-convert:hover {\n",
              "      background-color: #434B5C;\n",
              "      box-shadow: 0px 1px 3px 1px rgba(0, 0, 0, 0.15);\n",
              "      filter: drop-shadow(0px 1px 2px rgba(0, 0, 0, 0.3));\n",
              "      fill: #FFFFFF;\n",
              "    }\n",
              "  </style>\n",
              "\n",
              "      <script>\n",
              "        const buttonEl =\n",
              "          document.querySelector('#df-d28d8ce4-c19f-4c65-b869-4d2dac303cdc button.colab-df-convert');\n",
              "        buttonEl.style.display =\n",
              "          google.colab.kernel.accessAllowed ? 'block' : 'none';\n",
              "\n",
              "        async function convertToInteractive(key) {\n",
              "          const element = document.querySelector('#df-d28d8ce4-c19f-4c65-b869-4d2dac303cdc');\n",
              "          const dataTable =\n",
              "            await google.colab.kernel.invokeFunction('convertToInteractive',\n",
              "                                                     [key], {});\n",
              "          if (!dataTable) return;\n",
              "\n",
              "          const docLinkHtml = 'Like what you see? Visit the ' +\n",
              "            '<a target=\"_blank\" href=https://colab.research.google.com/notebooks/data_table.ipynb>data table notebook</a>'\n",
              "            + ' to learn more about interactive tables.';\n",
              "          element.innerHTML = '';\n",
              "          dataTable['output_type'] = 'display_data';\n",
              "          await google.colab.output.renderOutput(dataTable, element);\n",
              "          const docLink = document.createElement('div');\n",
              "          docLink.innerHTML = docLinkHtml;\n",
              "          element.appendChild(docLink);\n",
              "        }\n",
              "      </script>\n",
              "    </div>\n",
              "  </div>\n",
              "  "
            ]
          },
          "metadata": {},
          "execution_count": 66
        }
      ]
    },
    {
      "cell_type": "code",
      "source": [
        "newdf.isna().sum()"
      ],
      "metadata": {
        "colab": {
          "base_uri": "https://localhost:8080/"
        },
        "id": "1TEDevTErOqE",
        "outputId": "22a74739-9671-4f2a-840a-94472f1cd69b"
      },
      "execution_count": 67,
      "outputs": [
        {
          "output_type": "execute_result",
          "data": {
            "text/plain": [
              "Item_Identifier                 0\n",
              "Item_Weight                  2439\n",
              "Item_Fat_Content                0\n",
              "Item_Visibility                 0\n",
              "Item_Type                       0\n",
              "Item_MRP                        0\n",
              "Outlet_Identifier               0\n",
              "Outlet_Establishment_Year       0\n",
              "Outlet_Size                  4016\n",
              "Outlet_Location_Type            0\n",
              "Outlet_Type                     0\n",
              "Item_Outlet_Sales            5681\n",
              "source                          0\n",
              "dtype: int64"
            ]
          },
          "metadata": {},
          "execution_count": 67
        }
      ]
    },
    {
      "cell_type": "code",
      "source": [
        "#Impute Item weight\n",
        "newdf[newdf.Item_Weight.isna()]"
      ],
      "metadata": {
        "colab": {
          "base_uri": "https://localhost:8080/",
          "height": 661
        },
        "id": "xWf4WuWsruVu",
        "outputId": "b2633fa3-61e4-46a9-9926-7b130c6953d1"
      },
      "execution_count": 68,
      "outputs": [
        {
          "output_type": "execute_result",
          "data": {
            "text/plain": [
              "     Item_Identifier  Item_Weight Item_Fat_Content  Item_Visibility  \\\n",
              "7              FDP10          NaN          Low Fat         0.127470   \n",
              "18             DRI11          NaN          Low Fat         0.034238   \n",
              "21             FDW12          NaN          Regular         0.035400   \n",
              "23             FDC37          NaN          Low Fat         0.057557   \n",
              "29             FDC14          NaN          Regular         0.072222   \n",
              "...              ...          ...              ...              ...   \n",
              "5655           FDX32          NaN          Regular         0.099375   \n",
              "5656           FDC39          NaN          Low Fat         0.158425   \n",
              "5661           DRG37          NaN          Low Fat         0.000000   \n",
              "5665           DRE03          NaN          Low Fat         0.024110   \n",
              "5669           FDN31          NaN          Low Fat         0.072529   \n",
              "\n",
              "                  Item_Type  Item_MRP Outlet_Identifier  \\\n",
              "7               Snack Foods  107.7622            OUT027   \n",
              "18              Hard Drinks  113.2834            OUT027   \n",
              "21             Baking Goods  144.5444            OUT027   \n",
              "23             Baking Goods  107.6938            OUT019   \n",
              "29                   Canned   43.6454            OUT019   \n",
              "...                     ...       ...               ...   \n",
              "5655  Fruits and Vegetables  143.6786            OUT027   \n",
              "5656                  Dairy  207.8296            OUT027   \n",
              "5661            Soft Drinks  155.7972            OUT027   \n",
              "5665                  Dairy   46.0718            OUT027   \n",
              "5669  Fruits and Vegetables  188.0530            OUT027   \n",
              "\n",
              "      Outlet_Establishment_Year Outlet_Size Outlet_Location_Type  \\\n",
              "7                          1985      Medium               Tier 3   \n",
              "18                         1985      Medium               Tier 3   \n",
              "21                         1985      Medium               Tier 3   \n",
              "23                         1985       Small               Tier 1   \n",
              "29                         1985       Small               Tier 1   \n",
              "...                         ...         ...                  ...   \n",
              "5655                       1985      Medium               Tier 3   \n",
              "5656                       1985      Medium               Tier 3   \n",
              "5661                       1985      Medium               Tier 3   \n",
              "5665                       1985      Medium               Tier 3   \n",
              "5669                       1985      Medium               Tier 3   \n",
              "\n",
              "            Outlet_Type  Item_Outlet_Sales source  \n",
              "7     Supermarket Type3          4022.7636  Train  \n",
              "18    Supermarket Type3          2303.6680  Train  \n",
              "21    Supermarket Type3          4064.0432  Train  \n",
              "23        Grocery Store           214.3876  Train  \n",
              "29        Grocery Store           125.8362  Train  \n",
              "...                 ...                ...    ...  \n",
              "5655  Supermarket Type3                NaN   Test  \n",
              "5656  Supermarket Type3                NaN   Test  \n",
              "5661  Supermarket Type3                NaN   Test  \n",
              "5665  Supermarket Type3                NaN   Test  \n",
              "5669  Supermarket Type3                NaN   Test  \n",
              "\n",
              "[2439 rows x 13 columns]"
            ],
            "text/html": [
              "\n",
              "  <div id=\"df-9cc82267-4c12-4678-ab49-8583e439a655\">\n",
              "    <div class=\"colab-df-container\">\n",
              "      <div>\n",
              "<style scoped>\n",
              "    .dataframe tbody tr th:only-of-type {\n",
              "        vertical-align: middle;\n",
              "    }\n",
              "\n",
              "    .dataframe tbody tr th {\n",
              "        vertical-align: top;\n",
              "    }\n",
              "\n",
              "    .dataframe thead th {\n",
              "        text-align: right;\n",
              "    }\n",
              "</style>\n",
              "<table border=\"1\" class=\"dataframe\">\n",
              "  <thead>\n",
              "    <tr style=\"text-align: right;\">\n",
              "      <th></th>\n",
              "      <th>Item_Identifier</th>\n",
              "      <th>Item_Weight</th>\n",
              "      <th>Item_Fat_Content</th>\n",
              "      <th>Item_Visibility</th>\n",
              "      <th>Item_Type</th>\n",
              "      <th>Item_MRP</th>\n",
              "      <th>Outlet_Identifier</th>\n",
              "      <th>Outlet_Establishment_Year</th>\n",
              "      <th>Outlet_Size</th>\n",
              "      <th>Outlet_Location_Type</th>\n",
              "      <th>Outlet_Type</th>\n",
              "      <th>Item_Outlet_Sales</th>\n",
              "      <th>source</th>\n",
              "    </tr>\n",
              "  </thead>\n",
              "  <tbody>\n",
              "    <tr>\n",
              "      <th>7</th>\n",
              "      <td>FDP10</td>\n",
              "      <td>NaN</td>\n",
              "      <td>Low Fat</td>\n",
              "      <td>0.127470</td>\n",
              "      <td>Snack Foods</td>\n",
              "      <td>107.7622</td>\n",
              "      <td>OUT027</td>\n",
              "      <td>1985</td>\n",
              "      <td>Medium</td>\n",
              "      <td>Tier 3</td>\n",
              "      <td>Supermarket Type3</td>\n",
              "      <td>4022.7636</td>\n",
              "      <td>Train</td>\n",
              "    </tr>\n",
              "    <tr>\n",
              "      <th>18</th>\n",
              "      <td>DRI11</td>\n",
              "      <td>NaN</td>\n",
              "      <td>Low Fat</td>\n",
              "      <td>0.034238</td>\n",
              "      <td>Hard Drinks</td>\n",
              "      <td>113.2834</td>\n",
              "      <td>OUT027</td>\n",
              "      <td>1985</td>\n",
              "      <td>Medium</td>\n",
              "      <td>Tier 3</td>\n",
              "      <td>Supermarket Type3</td>\n",
              "      <td>2303.6680</td>\n",
              "      <td>Train</td>\n",
              "    </tr>\n",
              "    <tr>\n",
              "      <th>21</th>\n",
              "      <td>FDW12</td>\n",
              "      <td>NaN</td>\n",
              "      <td>Regular</td>\n",
              "      <td>0.035400</td>\n",
              "      <td>Baking Goods</td>\n",
              "      <td>144.5444</td>\n",
              "      <td>OUT027</td>\n",
              "      <td>1985</td>\n",
              "      <td>Medium</td>\n",
              "      <td>Tier 3</td>\n",
              "      <td>Supermarket Type3</td>\n",
              "      <td>4064.0432</td>\n",
              "      <td>Train</td>\n",
              "    </tr>\n",
              "    <tr>\n",
              "      <th>23</th>\n",
              "      <td>FDC37</td>\n",
              "      <td>NaN</td>\n",
              "      <td>Low Fat</td>\n",
              "      <td>0.057557</td>\n",
              "      <td>Baking Goods</td>\n",
              "      <td>107.6938</td>\n",
              "      <td>OUT019</td>\n",
              "      <td>1985</td>\n",
              "      <td>Small</td>\n",
              "      <td>Tier 1</td>\n",
              "      <td>Grocery Store</td>\n",
              "      <td>214.3876</td>\n",
              "      <td>Train</td>\n",
              "    </tr>\n",
              "    <tr>\n",
              "      <th>29</th>\n",
              "      <td>FDC14</td>\n",
              "      <td>NaN</td>\n",
              "      <td>Regular</td>\n",
              "      <td>0.072222</td>\n",
              "      <td>Canned</td>\n",
              "      <td>43.6454</td>\n",
              "      <td>OUT019</td>\n",
              "      <td>1985</td>\n",
              "      <td>Small</td>\n",
              "      <td>Tier 1</td>\n",
              "      <td>Grocery Store</td>\n",
              "      <td>125.8362</td>\n",
              "      <td>Train</td>\n",
              "    </tr>\n",
              "    <tr>\n",
              "      <th>...</th>\n",
              "      <td>...</td>\n",
              "      <td>...</td>\n",
              "      <td>...</td>\n",
              "      <td>...</td>\n",
              "      <td>...</td>\n",
              "      <td>...</td>\n",
              "      <td>...</td>\n",
              "      <td>...</td>\n",
              "      <td>...</td>\n",
              "      <td>...</td>\n",
              "      <td>...</td>\n",
              "      <td>...</td>\n",
              "      <td>...</td>\n",
              "    </tr>\n",
              "    <tr>\n",
              "      <th>5655</th>\n",
              "      <td>FDX32</td>\n",
              "      <td>NaN</td>\n",
              "      <td>Regular</td>\n",
              "      <td>0.099375</td>\n",
              "      <td>Fruits and Vegetables</td>\n",
              "      <td>143.6786</td>\n",
              "      <td>OUT027</td>\n",
              "      <td>1985</td>\n",
              "      <td>Medium</td>\n",
              "      <td>Tier 3</td>\n",
              "      <td>Supermarket Type3</td>\n",
              "      <td>NaN</td>\n",
              "      <td>Test</td>\n",
              "    </tr>\n",
              "    <tr>\n",
              "      <th>5656</th>\n",
              "      <td>FDC39</td>\n",
              "      <td>NaN</td>\n",
              "      <td>Low Fat</td>\n",
              "      <td>0.158425</td>\n",
              "      <td>Dairy</td>\n",
              "      <td>207.8296</td>\n",
              "      <td>OUT027</td>\n",
              "      <td>1985</td>\n",
              "      <td>Medium</td>\n",
              "      <td>Tier 3</td>\n",
              "      <td>Supermarket Type3</td>\n",
              "      <td>NaN</td>\n",
              "      <td>Test</td>\n",
              "    </tr>\n",
              "    <tr>\n",
              "      <th>5661</th>\n",
              "      <td>DRG37</td>\n",
              "      <td>NaN</td>\n",
              "      <td>Low Fat</td>\n",
              "      <td>0.000000</td>\n",
              "      <td>Soft Drinks</td>\n",
              "      <td>155.7972</td>\n",
              "      <td>OUT027</td>\n",
              "      <td>1985</td>\n",
              "      <td>Medium</td>\n",
              "      <td>Tier 3</td>\n",
              "      <td>Supermarket Type3</td>\n",
              "      <td>NaN</td>\n",
              "      <td>Test</td>\n",
              "    </tr>\n",
              "    <tr>\n",
              "      <th>5665</th>\n",
              "      <td>DRE03</td>\n",
              "      <td>NaN</td>\n",
              "      <td>Low Fat</td>\n",
              "      <td>0.024110</td>\n",
              "      <td>Dairy</td>\n",
              "      <td>46.0718</td>\n",
              "      <td>OUT027</td>\n",
              "      <td>1985</td>\n",
              "      <td>Medium</td>\n",
              "      <td>Tier 3</td>\n",
              "      <td>Supermarket Type3</td>\n",
              "      <td>NaN</td>\n",
              "      <td>Test</td>\n",
              "    </tr>\n",
              "    <tr>\n",
              "      <th>5669</th>\n",
              "      <td>FDN31</td>\n",
              "      <td>NaN</td>\n",
              "      <td>Low Fat</td>\n",
              "      <td>0.072529</td>\n",
              "      <td>Fruits and Vegetables</td>\n",
              "      <td>188.0530</td>\n",
              "      <td>OUT027</td>\n",
              "      <td>1985</td>\n",
              "      <td>Medium</td>\n",
              "      <td>Tier 3</td>\n",
              "      <td>Supermarket Type3</td>\n",
              "      <td>NaN</td>\n",
              "      <td>Test</td>\n",
              "    </tr>\n",
              "  </tbody>\n",
              "</table>\n",
              "<p>2439 rows × 13 columns</p>\n",
              "</div>\n",
              "      <button class=\"colab-df-convert\" onclick=\"convertToInteractive('df-9cc82267-4c12-4678-ab49-8583e439a655')\"\n",
              "              title=\"Convert this dataframe to an interactive table.\"\n",
              "              style=\"display:none;\">\n",
              "        \n",
              "  <svg xmlns=\"http://www.w3.org/2000/svg\" height=\"24px\"viewBox=\"0 0 24 24\"\n",
              "       width=\"24px\">\n",
              "    <path d=\"M0 0h24v24H0V0z\" fill=\"none\"/>\n",
              "    <path d=\"M18.56 5.44l.94 2.06.94-2.06 2.06-.94-2.06-.94-.94-2.06-.94 2.06-2.06.94zm-11 1L8.5 8.5l.94-2.06 2.06-.94-2.06-.94L8.5 2.5l-.94 2.06-2.06.94zm10 10l.94 2.06.94-2.06 2.06-.94-2.06-.94-.94-2.06-.94 2.06-2.06.94z\"/><path d=\"M17.41 7.96l-1.37-1.37c-.4-.4-.92-.59-1.43-.59-.52 0-1.04.2-1.43.59L10.3 9.45l-7.72 7.72c-.78.78-.78 2.05 0 2.83L4 21.41c.39.39.9.59 1.41.59.51 0 1.02-.2 1.41-.59l7.78-7.78 2.81-2.81c.8-.78.8-2.07 0-2.86zM5.41 20L4 18.59l7.72-7.72 1.47 1.35L5.41 20z\"/>\n",
              "  </svg>\n",
              "      </button>\n",
              "      \n",
              "  <style>\n",
              "    .colab-df-container {\n",
              "      display:flex;\n",
              "      flex-wrap:wrap;\n",
              "      gap: 12px;\n",
              "    }\n",
              "\n",
              "    .colab-df-convert {\n",
              "      background-color: #E8F0FE;\n",
              "      border: none;\n",
              "      border-radius: 50%;\n",
              "      cursor: pointer;\n",
              "      display: none;\n",
              "      fill: #1967D2;\n",
              "      height: 32px;\n",
              "      padding: 0 0 0 0;\n",
              "      width: 32px;\n",
              "    }\n",
              "\n",
              "    .colab-df-convert:hover {\n",
              "      background-color: #E2EBFA;\n",
              "      box-shadow: 0px 1px 2px rgba(60, 64, 67, 0.3), 0px 1px 3px 1px rgba(60, 64, 67, 0.15);\n",
              "      fill: #174EA6;\n",
              "    }\n",
              "\n",
              "    [theme=dark] .colab-df-convert {\n",
              "      background-color: #3B4455;\n",
              "      fill: #D2E3FC;\n",
              "    }\n",
              "\n",
              "    [theme=dark] .colab-df-convert:hover {\n",
              "      background-color: #434B5C;\n",
              "      box-shadow: 0px 1px 3px 1px rgba(0, 0, 0, 0.15);\n",
              "      filter: drop-shadow(0px 1px 2px rgba(0, 0, 0, 0.3));\n",
              "      fill: #FFFFFF;\n",
              "    }\n",
              "  </style>\n",
              "\n",
              "      <script>\n",
              "        const buttonEl =\n",
              "          document.querySelector('#df-9cc82267-4c12-4678-ab49-8583e439a655 button.colab-df-convert');\n",
              "        buttonEl.style.display =\n",
              "          google.colab.kernel.accessAllowed ? 'block' : 'none';\n",
              "\n",
              "        async function convertToInteractive(key) {\n",
              "          const element = document.querySelector('#df-9cc82267-4c12-4678-ab49-8583e439a655');\n",
              "          const dataTable =\n",
              "            await google.colab.kernel.invokeFunction('convertToInteractive',\n",
              "                                                     [key], {});\n",
              "          if (!dataTable) return;\n",
              "\n",
              "          const docLinkHtml = 'Like what you see? Visit the ' +\n",
              "            '<a target=\"_blank\" href=https://colab.research.google.com/notebooks/data_table.ipynb>data table notebook</a>'\n",
              "            + ' to learn more about interactive tables.';\n",
              "          element.innerHTML = '';\n",
              "          dataTable['output_type'] = 'display_data';\n",
              "          await google.colab.output.renderOutput(dataTable, element);\n",
              "          const docLink = document.createElement('div');\n",
              "          docLink.innerHTML = docLinkHtml;\n",
              "          element.appendChild(docLink);\n",
              "        }\n",
              "      </script>\n",
              "    </div>\n",
              "  </div>\n",
              "  "
            ]
          },
          "metadata": {},
          "execution_count": 68
        }
      ]
    },
    {
      "cell_type": "code",
      "source": [
        "newdf[newdf.Item_Identifier=='FDN31']"
      ],
      "metadata": {
        "colab": {
          "base_uri": "https://localhost:8080/",
          "height": 552
        },
        "id": "qm_7YV-Sr8qn",
        "outputId": "0e8ed6b9-03f7-44db-9b57-89fbd2ba616d"
      },
      "execution_count": 69,
      "outputs": [
        {
          "output_type": "execute_result",
          "data": {
            "text/plain": [
              "     Item_Identifier  Item_Weight Item_Fat_Content  Item_Visibility  \\\n",
              "1610           FDN31         11.5          Low Fat         0.073029   \n",
              "1866           FDN31         11.5          Low Fat         0.072995   \n",
              "2494           FDN31         11.5          Low Fat         0.072821   \n",
              "3741           FDN31         11.5          Low Fat         0.072882   \n",
              "340            FDN31         11.5          Low Fat         0.073178   \n",
              "1113           FDN31         11.5          low fat         0.073294   \n",
              "2093           FDN31         11.5          Low Fat         0.072868   \n",
              "5490           FDN31         11.5          Low Fat         0.121989   \n",
              "5669           FDN31          NaN          Low Fat         0.072529   \n",
              "\n",
              "                  Item_Type  Item_MRP Outlet_Identifier  \\\n",
              "1610  Fruits and Vegetables   187.953            OUT045   \n",
              "1866  Fruits and Vegetables   189.253            OUT049   \n",
              "2494  Fruits and Vegetables   191.253            OUT013   \n",
              "3741  Fruits and Vegetables   191.353            OUT046   \n",
              "340   Fruits and Vegetables   189.153            OUT018   \n",
              "1113  Fruits and Vegetables   191.053            OUT017   \n",
              "2093  Fruits and Vegetables   191.653            OUT035   \n",
              "5490  Fruits and Vegetables   191.453            OUT010   \n",
              "5669  Fruits and Vegetables   188.053            OUT027   \n",
              "\n",
              "      Outlet_Establishment_Year Outlet_Size Outlet_Location_Type  \\\n",
              "1610                       2002         NaN               Tier 2   \n",
              "1866                       1999      Medium               Tier 1   \n",
              "2494                       1987        High               Tier 3   \n",
              "3741                       1997       Small               Tier 1   \n",
              "340                        2009      Medium               Tier 3   \n",
              "1113                       2007         NaN               Tier 2   \n",
              "2093                       2004       Small               Tier 2   \n",
              "5490                       1998         NaN               Tier 3   \n",
              "5669                       1985      Medium               Tier 3   \n",
              "\n",
              "            Outlet_Type  Item_Outlet_Sales source  \n",
              "1610  Supermarket Type1           2656.542  Train  \n",
              "1866  Supermarket Type1           1328.271  Train  \n",
              "2494  Supermarket Type1           3036.048  Train  \n",
              "3741  Supermarket Type1           2277.036  Train  \n",
              "340   Supermarket Type2                NaN   Test  \n",
              "1113  Supermarket Type1                NaN   Test  \n",
              "2093  Supermarket Type1                NaN   Test  \n",
              "5490      Grocery Store                NaN   Test  \n",
              "5669  Supermarket Type3                NaN   Test  "
            ],
            "text/html": [
              "\n",
              "  <div id=\"df-bf6d80e0-a323-4913-93ff-3eb32907a57e\">\n",
              "    <div class=\"colab-df-container\">\n",
              "      <div>\n",
              "<style scoped>\n",
              "    .dataframe tbody tr th:only-of-type {\n",
              "        vertical-align: middle;\n",
              "    }\n",
              "\n",
              "    .dataframe tbody tr th {\n",
              "        vertical-align: top;\n",
              "    }\n",
              "\n",
              "    .dataframe thead th {\n",
              "        text-align: right;\n",
              "    }\n",
              "</style>\n",
              "<table border=\"1\" class=\"dataframe\">\n",
              "  <thead>\n",
              "    <tr style=\"text-align: right;\">\n",
              "      <th></th>\n",
              "      <th>Item_Identifier</th>\n",
              "      <th>Item_Weight</th>\n",
              "      <th>Item_Fat_Content</th>\n",
              "      <th>Item_Visibility</th>\n",
              "      <th>Item_Type</th>\n",
              "      <th>Item_MRP</th>\n",
              "      <th>Outlet_Identifier</th>\n",
              "      <th>Outlet_Establishment_Year</th>\n",
              "      <th>Outlet_Size</th>\n",
              "      <th>Outlet_Location_Type</th>\n",
              "      <th>Outlet_Type</th>\n",
              "      <th>Item_Outlet_Sales</th>\n",
              "      <th>source</th>\n",
              "    </tr>\n",
              "  </thead>\n",
              "  <tbody>\n",
              "    <tr>\n",
              "      <th>1610</th>\n",
              "      <td>FDN31</td>\n",
              "      <td>11.5</td>\n",
              "      <td>Low Fat</td>\n",
              "      <td>0.073029</td>\n",
              "      <td>Fruits and Vegetables</td>\n",
              "      <td>187.953</td>\n",
              "      <td>OUT045</td>\n",
              "      <td>2002</td>\n",
              "      <td>NaN</td>\n",
              "      <td>Tier 2</td>\n",
              "      <td>Supermarket Type1</td>\n",
              "      <td>2656.542</td>\n",
              "      <td>Train</td>\n",
              "    </tr>\n",
              "    <tr>\n",
              "      <th>1866</th>\n",
              "      <td>FDN31</td>\n",
              "      <td>11.5</td>\n",
              "      <td>Low Fat</td>\n",
              "      <td>0.072995</td>\n",
              "      <td>Fruits and Vegetables</td>\n",
              "      <td>189.253</td>\n",
              "      <td>OUT049</td>\n",
              "      <td>1999</td>\n",
              "      <td>Medium</td>\n",
              "      <td>Tier 1</td>\n",
              "      <td>Supermarket Type1</td>\n",
              "      <td>1328.271</td>\n",
              "      <td>Train</td>\n",
              "    </tr>\n",
              "    <tr>\n",
              "      <th>2494</th>\n",
              "      <td>FDN31</td>\n",
              "      <td>11.5</td>\n",
              "      <td>Low Fat</td>\n",
              "      <td>0.072821</td>\n",
              "      <td>Fruits and Vegetables</td>\n",
              "      <td>191.253</td>\n",
              "      <td>OUT013</td>\n",
              "      <td>1987</td>\n",
              "      <td>High</td>\n",
              "      <td>Tier 3</td>\n",
              "      <td>Supermarket Type1</td>\n",
              "      <td>3036.048</td>\n",
              "      <td>Train</td>\n",
              "    </tr>\n",
              "    <tr>\n",
              "      <th>3741</th>\n",
              "      <td>FDN31</td>\n",
              "      <td>11.5</td>\n",
              "      <td>Low Fat</td>\n",
              "      <td>0.072882</td>\n",
              "      <td>Fruits and Vegetables</td>\n",
              "      <td>191.353</td>\n",
              "      <td>OUT046</td>\n",
              "      <td>1997</td>\n",
              "      <td>Small</td>\n",
              "      <td>Tier 1</td>\n",
              "      <td>Supermarket Type1</td>\n",
              "      <td>2277.036</td>\n",
              "      <td>Train</td>\n",
              "    </tr>\n",
              "    <tr>\n",
              "      <th>340</th>\n",
              "      <td>FDN31</td>\n",
              "      <td>11.5</td>\n",
              "      <td>Low Fat</td>\n",
              "      <td>0.073178</td>\n",
              "      <td>Fruits and Vegetables</td>\n",
              "      <td>189.153</td>\n",
              "      <td>OUT018</td>\n",
              "      <td>2009</td>\n",
              "      <td>Medium</td>\n",
              "      <td>Tier 3</td>\n",
              "      <td>Supermarket Type2</td>\n",
              "      <td>NaN</td>\n",
              "      <td>Test</td>\n",
              "    </tr>\n",
              "    <tr>\n",
              "      <th>1113</th>\n",
              "      <td>FDN31</td>\n",
              "      <td>11.5</td>\n",
              "      <td>low fat</td>\n",
              "      <td>0.073294</td>\n",
              "      <td>Fruits and Vegetables</td>\n",
              "      <td>191.053</td>\n",
              "      <td>OUT017</td>\n",
              "      <td>2007</td>\n",
              "      <td>NaN</td>\n",
              "      <td>Tier 2</td>\n",
              "      <td>Supermarket Type1</td>\n",
              "      <td>NaN</td>\n",
              "      <td>Test</td>\n",
              "    </tr>\n",
              "    <tr>\n",
              "      <th>2093</th>\n",
              "      <td>FDN31</td>\n",
              "      <td>11.5</td>\n",
              "      <td>Low Fat</td>\n",
              "      <td>0.072868</td>\n",
              "      <td>Fruits and Vegetables</td>\n",
              "      <td>191.653</td>\n",
              "      <td>OUT035</td>\n",
              "      <td>2004</td>\n",
              "      <td>Small</td>\n",
              "      <td>Tier 2</td>\n",
              "      <td>Supermarket Type1</td>\n",
              "      <td>NaN</td>\n",
              "      <td>Test</td>\n",
              "    </tr>\n",
              "    <tr>\n",
              "      <th>5490</th>\n",
              "      <td>FDN31</td>\n",
              "      <td>11.5</td>\n",
              "      <td>Low Fat</td>\n",
              "      <td>0.121989</td>\n",
              "      <td>Fruits and Vegetables</td>\n",
              "      <td>191.453</td>\n",
              "      <td>OUT010</td>\n",
              "      <td>1998</td>\n",
              "      <td>NaN</td>\n",
              "      <td>Tier 3</td>\n",
              "      <td>Grocery Store</td>\n",
              "      <td>NaN</td>\n",
              "      <td>Test</td>\n",
              "    </tr>\n",
              "    <tr>\n",
              "      <th>5669</th>\n",
              "      <td>FDN31</td>\n",
              "      <td>NaN</td>\n",
              "      <td>Low Fat</td>\n",
              "      <td>0.072529</td>\n",
              "      <td>Fruits and Vegetables</td>\n",
              "      <td>188.053</td>\n",
              "      <td>OUT027</td>\n",
              "      <td>1985</td>\n",
              "      <td>Medium</td>\n",
              "      <td>Tier 3</td>\n",
              "      <td>Supermarket Type3</td>\n",
              "      <td>NaN</td>\n",
              "      <td>Test</td>\n",
              "    </tr>\n",
              "  </tbody>\n",
              "</table>\n",
              "</div>\n",
              "      <button class=\"colab-df-convert\" onclick=\"convertToInteractive('df-bf6d80e0-a323-4913-93ff-3eb32907a57e')\"\n",
              "              title=\"Convert this dataframe to an interactive table.\"\n",
              "              style=\"display:none;\">\n",
              "        \n",
              "  <svg xmlns=\"http://www.w3.org/2000/svg\" height=\"24px\"viewBox=\"0 0 24 24\"\n",
              "       width=\"24px\">\n",
              "    <path d=\"M0 0h24v24H0V0z\" fill=\"none\"/>\n",
              "    <path d=\"M18.56 5.44l.94 2.06.94-2.06 2.06-.94-2.06-.94-.94-2.06-.94 2.06-2.06.94zm-11 1L8.5 8.5l.94-2.06 2.06-.94-2.06-.94L8.5 2.5l-.94 2.06-2.06.94zm10 10l.94 2.06.94-2.06 2.06-.94-2.06-.94-.94-2.06-.94 2.06-2.06.94z\"/><path d=\"M17.41 7.96l-1.37-1.37c-.4-.4-.92-.59-1.43-.59-.52 0-1.04.2-1.43.59L10.3 9.45l-7.72 7.72c-.78.78-.78 2.05 0 2.83L4 21.41c.39.39.9.59 1.41.59.51 0 1.02-.2 1.41-.59l7.78-7.78 2.81-2.81c.8-.78.8-2.07 0-2.86zM5.41 20L4 18.59l7.72-7.72 1.47 1.35L5.41 20z\"/>\n",
              "  </svg>\n",
              "      </button>\n",
              "      \n",
              "  <style>\n",
              "    .colab-df-container {\n",
              "      display:flex;\n",
              "      flex-wrap:wrap;\n",
              "      gap: 12px;\n",
              "    }\n",
              "\n",
              "    .colab-df-convert {\n",
              "      background-color: #E8F0FE;\n",
              "      border: none;\n",
              "      border-radius: 50%;\n",
              "      cursor: pointer;\n",
              "      display: none;\n",
              "      fill: #1967D2;\n",
              "      height: 32px;\n",
              "      padding: 0 0 0 0;\n",
              "      width: 32px;\n",
              "    }\n",
              "\n",
              "    .colab-df-convert:hover {\n",
              "      background-color: #E2EBFA;\n",
              "      box-shadow: 0px 1px 2px rgba(60, 64, 67, 0.3), 0px 1px 3px 1px rgba(60, 64, 67, 0.15);\n",
              "      fill: #174EA6;\n",
              "    }\n",
              "\n",
              "    [theme=dark] .colab-df-convert {\n",
              "      background-color: #3B4455;\n",
              "      fill: #D2E3FC;\n",
              "    }\n",
              "\n",
              "    [theme=dark] .colab-df-convert:hover {\n",
              "      background-color: #434B5C;\n",
              "      box-shadow: 0px 1px 3px 1px rgba(0, 0, 0, 0.15);\n",
              "      filter: drop-shadow(0px 1px 2px rgba(0, 0, 0, 0.3));\n",
              "      fill: #FFFFFF;\n",
              "    }\n",
              "  </style>\n",
              "\n",
              "      <script>\n",
              "        const buttonEl =\n",
              "          document.querySelector('#df-bf6d80e0-a323-4913-93ff-3eb32907a57e button.colab-df-convert');\n",
              "        buttonEl.style.display =\n",
              "          google.colab.kernel.accessAllowed ? 'block' : 'none';\n",
              "\n",
              "        async function convertToInteractive(key) {\n",
              "          const element = document.querySelector('#df-bf6d80e0-a323-4913-93ff-3eb32907a57e');\n",
              "          const dataTable =\n",
              "            await google.colab.kernel.invokeFunction('convertToInteractive',\n",
              "                                                     [key], {});\n",
              "          if (!dataTable) return;\n",
              "\n",
              "          const docLinkHtml = 'Like what you see? Visit the ' +\n",
              "            '<a target=\"_blank\" href=https://colab.research.google.com/notebooks/data_table.ipynb>data table notebook</a>'\n",
              "            + ' to learn more about interactive tables.';\n",
              "          element.innerHTML = '';\n",
              "          dataTable['output_type'] = 'display_data';\n",
              "          await google.colab.output.renderOutput(dataTable, element);\n",
              "          const docLink = document.createElement('div');\n",
              "          docLink.innerHTML = docLinkHtml;\n",
              "          element.appendChild(docLink);\n",
              "        }\n",
              "      </script>\n",
              "    </div>\n",
              "  </div>\n",
              "  "
            ]
          },
          "metadata": {},
          "execution_count": 69
        }
      ]
    },
    {
      "cell_type": "code",
      "source": [
        "pt1=pd.pivot_table(data=newdf,index='Item_Identifier',values='Item_Weight',aggfunc=np.max)\n",
        "newdf1=newdf.merge(pt1, on='Item_Identifier',how='inner')\n",
        "newdf1.drop('Item_Weight_x',axis=1,inplace=True)\n",
        "newdf1.rename(columns={'Item_Weight_y':'Item_Weight'},inplace=True)"
      ],
      "metadata": {
        "id": "0MYR2BzesGrn"
      },
      "execution_count": 70,
      "outputs": []
    },
    {
      "cell_type": "code",
      "source": [
        "newdf1.isna().sum()"
      ],
      "metadata": {
        "colab": {
          "base_uri": "https://localhost:8080/"
        },
        "id": "yeEd6Y4WsiCY",
        "outputId": "932a453b-3cb3-4692-a407-12d49a354eb3"
      },
      "execution_count": 71,
      "outputs": [
        {
          "output_type": "execute_result",
          "data": {
            "text/plain": [
              "Item_Identifier                 0\n",
              "Item_Fat_Content                0\n",
              "Item_Visibility                 0\n",
              "Item_Type                       0\n",
              "Item_MRP                        0\n",
              "Outlet_Identifier               0\n",
              "Outlet_Establishment_Year       0\n",
              "Outlet_Size                  4016\n",
              "Outlet_Location_Type            0\n",
              "Outlet_Type                     0\n",
              "Item_Outlet_Sales            5681\n",
              "source                          0\n",
              "Item_Weight                     0\n",
              "dtype: int64"
            ]
          },
          "metadata": {},
          "execution_count": 71
        }
      ]
    },
    {
      "cell_type": "code",
      "source": [
        "newdf1.Outlet_Size.fillna('unknown',inplace=True)"
      ],
      "metadata": {
        "id": "Yu6HW6ctufM5"
      },
      "execution_count": 72,
      "outputs": []
    },
    {
      "cell_type": "code",
      "source": [
        "import seaborn as sns\n",
        "sns.countplot(newdf1.Item_Fat_Content)"
      ],
      "metadata": {
        "colab": {
          "base_uri": "https://localhost:8080/",
          "height": 352
        },
        "id": "XuEksAsFupYM",
        "outputId": "cf0bc23f-7f2a-4274-8e03-795c1220c879"
      },
      "execution_count": 73,
      "outputs": [
        {
          "output_type": "stream",
          "name": "stderr",
          "text": [
            "/usr/local/lib/python3.7/dist-packages/seaborn/_decorators.py:43: FutureWarning: Pass the following variable as a keyword arg: x. From version 0.12, the only valid positional argument will be `data`, and passing other arguments without an explicit keyword will result in an error or misinterpretation.\n",
            "  FutureWarning\n"
          ]
        },
        {
          "output_type": "execute_result",
          "data": {
            "text/plain": [
              "<matplotlib.axes._subplots.AxesSubplot at 0x7f879a746d10>"
            ]
          },
          "metadata": {},
          "execution_count": 73
        },
        {
          "output_type": "display_data",
          "data": {
            "text/plain": [
              "<Figure size 432x288 with 1 Axes>"
            ],
            "image/png": "[encoded data removed]"
          },
          "metadata": {
            "needs_background": "light"
          }
        }
      ]
    },
    {
      "cell_type": "code",
      "source": [
        "newdf1['Item_Fat_Content']=newdf1['Item_Fat_Content'].map({'Low Fat':'Low Fat','LF':'Low Fat','low fat':'Low Fat','reg':'Regular','Regular':'Regular'})"
      ],
      "metadata": {
        "id": "yNECVz9CuwJ7"
      },
      "execution_count": 74,
      "outputs": []
    },
    {
      "cell_type": "code",
      "source": [
        "sns.countplot(newdf1.Item_Fat_Content)"
      ],
      "metadata": {
        "colab": {
          "base_uri": "https://localhost:8080/",
          "height": 352
        },
        "id": "FbazslOUvNLL",
        "outputId": "69ddfa79-d767-4a89-dae3-32d39ca78bf1"
      },
      "execution_count": 75,
      "outputs": [
        {
          "output_type": "stream",
          "name": "stderr",
          "text": [
            "/usr/local/lib/python3.7/dist-packages/seaborn/_decorators.py:43: FutureWarning: Pass the following variable as a keyword arg: x. From version 0.12, the only valid positional argument will be `data`, and passing other arguments without an explicit keyword will result in an error or misinterpretation.\n",
            "  FutureWarning\n"
          ]
        },
        {
          "output_type": "execute_result",
          "data": {
            "text/plain": [
              "<matplotlib.axes._subplots.AxesSubplot at 0x7f879a7ca390>"
            ]
          },
          "metadata": {},
          "execution_count": 75
        },
        {
          "output_type": "display_data",
          "data": {
            "text/plain": [
              "<Figure size 432x288 with 1 Axes>"
            ],
            "image/png": "[encoded data removed]"
          },
          "metadata": {
            "needs_background": "light"
          }
        }
      ]
    },
    {
      "cell_type": "code",
      "source": [
        "newdf1['Item_Visibility'].describe()"
      ],
      "metadata": {
        "colab": {
          "base_uri": "https://localhost:8080/"
        },
        "id": "ulKo_MjevQVS",
        "outputId": "b815c781-073d-4219-d90e-82772095879a"
      },
      "execution_count": 76,
      "outputs": [
        {
          "output_type": "execute_result",
          "data": {
            "text/plain": [
              "count    14204.000000\n",
              "mean         0.065953\n",
              "std          0.051459\n",
              "min          0.000000\n",
              "25%          0.027036\n",
              "50%          0.054021\n",
              "75%          0.094037\n",
              "max          0.328391\n",
              "Name: Item_Visibility, dtype: float64"
            ]
          },
          "metadata": {},
          "execution_count": 76
        }
      ]
    },
    {
      "cell_type": "code",
      "source": [
        "newdf1['Item_Visibility']=newdf1.Item_Visibility.replace(0.0,newdf1.Item_Visibility.mean())"
      ],
      "metadata": {
        "id": "udjgAPoawzu6"
      },
      "execution_count": 82,
      "outputs": []
    },
    {
      "cell_type": "code",
      "source": [
        "plt.figure(figsize=(20,5))\n",
        "sns.countplot(newdf1['Item_Type'])\n",
        "plt.xticks(rotation=90)"
      ],
      "metadata": {
        "colab": {
          "base_uri": "https://localhost:8080/",
          "height": 499
        },
        "id": "l5ozcLMNxDYi",
        "outputId": "8fbddf4a-e8c5-4fb3-e8b5-d7236e105bf7"
      },
      "execution_count": 88,
      "outputs": [
        {
          "output_type": "stream",
          "name": "stderr",
          "text": [
            "/usr/local/lib/python3.7/dist-packages/seaborn/_decorators.py:43: FutureWarning: Pass the following variable as a keyword arg: x. From version 0.12, the only valid positional argument will be `data`, and passing other arguments without an explicit keyword will result in an error or misinterpretation.\n",
            "  FutureWarning\n"
          ]
        },
        {
          "output_type": "execute_result",
          "data": {
            "text/plain": [
              "(array([ 0,  1,  2,  3,  4,  5,  6,  7,  8,  9, 10, 11, 12, 13, 14, 15]),\n",
              " <a list of 16 Text major ticklabel objects>)"
            ]
          },
          "metadata": {},
          "execution_count": 88
        },
        {
          "output_type": "display_data",
          "data": {
            "text/plain": [
              "<Figure size 1440x360 with 1 Axes>"
            ],
            "image/png": "[encoded data removed]"
          },
          "metadata": {
            "needs_background": "light"
          }
        }
      ]
    },
    {
      "cell_type": "code",
      "source": [
        "\n",
        "newdf1.Item_MRP.describe()"
      ],
      "metadata": {
        "colab": {
          "base_uri": "https://localhost:8080/",
          "height": 191
        },
        "id": "i3ZMwCnHxMMQ",
        "outputId": "7694780d-68d3-4925-92d3-86fa8e350e9e"
      },
      "execution_count": 92,
      "outputs": [
        {
          "output_type": "execute_result",
          "data": {
            "text/plain": [
              "count    14204.000000\n",
              "mean       141.004977\n",
              "std         62.086938\n",
              "min         31.290000\n",
              "25%         94.012000\n",
              "50%        142.247000\n",
              "75%        185.855600\n",
              "max        266.888400\n",
              "Name: Item_MRP, dtype: float64"
            ]
          },
          "metadata": {},
          "execution_count": 92
        },
        {
          "output_type": "display_data",
          "data": {
            "text/plain": [
              "<Figure size 1440x360 with 0 Axes>"
            ]
          },
          "metadata": {}
        }
      ]
    },
    {
      "cell_type": "code",
      "source": [
        "plt.figure(figsize=(20,5))\n",
        "sns.countplot(newdf1.Outlet_Identifier)"
      ],
      "metadata": {
        "colab": {
          "base_uri": "https://localhost:8080/",
          "height": 390
        },
        "id": "QcBm3sWtyXPc",
        "outputId": "57411c06-058b-4203-c8fe-5296e9799443"
      },
      "execution_count": 93,
      "outputs": [
        {
          "output_type": "stream",
          "name": "stderr",
          "text": [
            "/usr/local/lib/python3.7/dist-packages/seaborn/_decorators.py:43: FutureWarning: Pass the following variable as a keyword arg: x. From version 0.12, the only valid positional argument will be `data`, and passing other arguments without an explicit keyword will result in an error or misinterpretation.\n",
            "  FutureWarning\n"
          ]
        },
        {
          "output_type": "execute_result",
          "data": {
            "text/plain": [
              "<matplotlib.axes._subplots.AxesSubplot at 0x7f879a07dd90>"
            ]
          },
          "metadata": {},
          "execution_count": 93
        },
        {
          "output_type": "display_data",
          "data": {
            "text/plain": [
              "<Figure size 1440x360 with 1 Axes>"
            ],
            "image/png": "[encoded data removed]"
          },
          "metadata": {
            "needs_background": "light"
          }
        }
      ]
    },
    {
      "cell_type": "code",
      "source": [
        "sns.countplot(newdf1.Outlet_Establishment_Year)"
      ],
      "metadata": {
        "colab": {
          "base_uri": "https://localhost:8080/",
          "height": 352
        },
        "id": "gs6cBhOzy_Uo",
        "outputId": "a6980007-c052-4bf3-dbb9-224eb6c8aefa"
      },
      "execution_count": 95,
      "outputs": [
        {
          "output_type": "stream",
          "name": "stderr",
          "text": [
            "/usr/local/lib/python3.7/dist-packages/seaborn/_decorators.py:43: FutureWarning: Pass the following variable as a keyword arg: x. From version 0.12, the only valid positional argument will be `data`, and passing other arguments without an explicit keyword will result in an error or misinterpretation.\n",
            "  FutureWarning\n"
          ]
        },
        {
          "output_type": "execute_result",
          "data": {
            "text/plain": [
              "<matplotlib.axes._subplots.AxesSubplot at 0x7f8799f97cd0>"
            ]
          },
          "metadata": {},
          "execution_count": 95
        },
        {
          "output_type": "display_data",
          "data": {
            "text/plain": [
              "<Figure size 432x288 with 1 Axes>"
            ],
            "image/png": "[encoded data removed]"
          },
          "metadata": {
            "needs_background": "light"
          }
        }
      ]
    },
    {
      "cell_type": "code",
      "source": [
        "newdf1['age']=2013-newdf1['Outlet_Establishment_Year']\n",
        "newdf1.drop('Outlet_Establishment_Year',axis=1,inplace=True)"
      ],
      "metadata": {
        "id": "GWkZ8HVQzPEY"
      },
      "execution_count": 97,
      "outputs": []
    },
    {
      "cell_type": "code",
      "source": [
        "sns.countplot(newdf1.Outlet_Size)"
      ],
      "metadata": {
        "colab": {
          "base_uri": "https://localhost:8080/",
          "height": 352
        },
        "id": "l4NgSJW-zb4B",
        "outputId": "f71ea320-9161-476c-9822-7cb8428eaf92"
      },
      "execution_count": 98,
      "outputs": [
        {
          "output_type": "stream",
          "name": "stderr",
          "text": [
            "/usr/local/lib/python3.7/dist-packages/seaborn/_decorators.py:43: FutureWarning: Pass the following variable as a keyword arg: x. From version 0.12, the only valid positional argument will be `data`, and passing other arguments without an explicit keyword will result in an error or misinterpretation.\n",
            "  FutureWarning\n"
          ]
        },
        {
          "output_type": "execute_result",
          "data": {
            "text/plain": [
              "<matplotlib.axes._subplots.AxesSubplot at 0x7f8799f49e90>"
            ]
          },
          "metadata": {},
          "execution_count": 98
        },
        {
          "output_type": "display_data",
          "data": {
            "text/plain": [
              "<Figure size 432x288 with 1 Axes>"
            ],
            "image/png": "[encoded data removed]"
          },
          "metadata": {
            "needs_background": "light"
          }
        }
      ]
    },
    {
      "cell_type": "code",
      "source": [
        "sns.countplot(newdf1.Outlet_Location_Type)"
      ],
      "metadata": {
        "colab": {
          "base_uri": "https://localhost:8080/",
          "height": 352
        },
        "id": "8-cAl7h7zQ1p",
        "outputId": "1459e009-8ef0-421c-c778-711bd455d015"
      },
      "execution_count": 99,
      "outputs": [
        {
          "output_type": "stream",
          "name": "stderr",
          "text": [
            "/usr/local/lib/python3.7/dist-packages/seaborn/_decorators.py:43: FutureWarning: Pass the following variable as a keyword arg: x. From version 0.12, the only valid positional argument will be `data`, and passing other arguments without an explicit keyword will result in an error or misinterpretation.\n",
            "  FutureWarning\n"
          ]
        },
        {
          "output_type": "execute_result",
          "data": {
            "text/plain": [
              "<matplotlib.axes._subplots.AxesSubplot at 0x7f8799ea7f90>"
            ]
          },
          "metadata": {},
          "execution_count": 99
        },
        {
          "output_type": "display_data",
          "data": {
            "text/plain": [
              "<Figure size 432x288 with 1 Axes>"
            ],
            "image/png": "[encoded data removed]"
          },
          "metadata": {
            "needs_background": "light"
          }
        }
      ]
    },
    {
      "cell_type": "code",
      "source": [
        "plt.figure(figsize=(10,5))\n",
        "sns.countplot(newdf1.Outlet_Type)"
      ],
      "metadata": {
        "colab": {
          "base_uri": "https://localhost:8080/",
          "height": 407
        },
        "id": "EZuaCuTVze47",
        "outputId": "26d9367b-d77e-4f54-f8cd-1f176dc308ea"
      },
      "execution_count": 101,
      "outputs": [
        {
          "output_type": "stream",
          "name": "stderr",
          "text": [
            "/usr/local/lib/python3.7/dist-packages/seaborn/_decorators.py:43: FutureWarning: Pass the following variable as a keyword arg: x. From version 0.12, the only valid positional argument will be `data`, and passing other arguments without an explicit keyword will result in an error or misinterpretation.\n",
            "  FutureWarning\n"
          ]
        },
        {
          "output_type": "execute_result",
          "data": {
            "text/plain": [
              "<matplotlib.axes._subplots.AxesSubplot at 0x7f8799e7f4d0>"
            ]
          },
          "metadata": {},
          "execution_count": 101
        },
        {
          "output_type": "display_data",
          "data": {
            "text/plain": [
              "<Figure size 720x360 with 1 Axes>"
            ],
            "image/png": "[encoded data removed]"
          },
          "metadata": {
            "needs_background": "light"
          }
        }
      ]
    },
    {
      "cell_type": "code",
      "source": [
        "cat_data=[]"
      ],
      "metadata": {
        "colab": {
          "base_uri": "https://localhost:8080/",
          "height": 351
        },
        "id": "-qQsbnIb4QJG",
        "outputId": "5eb38b30-8718-4e79-c25e-510e332a46ca"
      },
      "execution_count": 102,
      "outputs": [
        {
          "output_type": "stream",
          "name": "stderr",
          "text": [
            "/usr/local/lib/python3.7/dist-packages/seaborn/_decorators.py:43: FutureWarning: Pass the following variable as a keyword arg: x. From version 0.12, the only valid positional argument will be `data`, and passing other arguments without an explicit keyword will result in an error or misinterpretation.\n",
            "  FutureWarning\n"
          ]
        },
        {
          "output_type": "execute_result",
          "data": {
            "text/plain": [
              "<matplotlib.axes._subplots.AxesSubplot at 0x7f8799e53e90>"
            ]
          },
          "metadata": {},
          "execution_count": 102
        },
        {
          "output_type": "display_data",
          "data": {
            "text/plain": [
              "<Figure size 432x288 with 1 Axes>"
            ],
            "image/png": "[encoded data removed]"
          },
          "metadata": {
            "needs_background": "light"
          }
        }
      ]
    },
    {
      "cell_type": "code",
      "source": [
        "newdf1.info()"
      ],
      "metadata": {
        "colab": {
          "base_uri": "https://localhost:8080/"
        },
        "id": "TceW88Sk04zV",
        "outputId": "cc64d0d2-2ac9-4e45-d184-97087fffc294"
      },
      "execution_count": 103,
      "outputs": [
        {
          "output_type": "stream",
          "name": "stdout",
          "text": [
            "<class 'pandas.core.frame.DataFrame'>\n",
            "Int64Index: 14204 entries, 0 to 14203\n",
            "Data columns (total 13 columns):\n",
            " #   Column                Non-Null Count  Dtype  \n",
            "---  ------                --------------  -----  \n",
            " 0   Item_Identifier       14204 non-null  object \n",
            " 1   Item_Fat_Content      14204 non-null  object \n",
            " 2   Item_Visibility       14204 non-null  float64\n",
            " 3   Item_Type             14204 non-null  object \n",
            " 4   Item_MRP              14204 non-null  float64\n",
            " 5   Outlet_Identifier     14204 non-null  object \n",
            " 6   Outlet_Size           14204 non-null  object \n",
            " 7   Outlet_Location_Type  14204 non-null  object \n",
            " 8   Outlet_Type           14204 non-null  object \n",
            " 9   Item_Outlet_Sales     8523 non-null   float64\n",
            " 10  source                14204 non-null  object \n",
            " 11  Item_Weight           14204 non-null  float64\n",
            " 12  age                   14204 non-null  int64  \n",
            "dtypes: float64(4), int64(1), object(8)\n",
            "memory usage: 2.0+ MB\n"
          ]
        }
      ]
    },
    {
      "cell_type": "code",
      "source": [
        "newdf1['item_idfy']=newdf1.Item_Identifier.apply(lambda x: x[0:2])\n",
        "newdf1.drop('Item_Identifier',axis=1,inplace=True)\n",
        "newdf1.item_idfy=newdf1.item_idfy.map({'FD':'Food', 'NC':'Non-Consumable', 'DR':'Drinks'})\n"
      ],
      "metadata": {
        "id": "PUydHViO-Wbt"
      },
      "execution_count": 105,
      "outputs": []
    },
    {
      "cell_type": "code",
      "source": [
        "from sklearn.preprocessing import LabelEncoder\n",
        "lb=LabelEncoder()\n",
        "catcol=['item_idfy','Item_Fat_Content','Item_Type','Outlet_Identifier','Outlet_Size','Outlet_Location_Type','Outlet_Type']\n",
        "\n",
        "for i in catcol:\n",
        "  newdf1[i]=lb.fit_transform(newdf1[i])"
      ],
      "metadata": {
        "id": "F2XOxClQ4npM"
      },
      "execution_count": 106,
      "outputs": []
    },
    {
      "cell_type": "code",
      "source": [
        "newdf1.head()"
      ],
      "metadata": {
        "colab": {
          "base_uri": "https://localhost:8080/",
          "height": 270
        },
        "id": "nysPgtfMARLy",
        "outputId": "07a0b655-334b-48dd-bb50-3e72c9c4cb00"
      },
      "execution_count": 107,
      "outputs": [
        {
          "output_type": "execute_result",
          "data": {
            "text/plain": [
              "   Item_Fat_Content  Item_Visibility  Item_Type  Item_MRP  Outlet_Identifier  \\\n",
              "0                 0         0.016047          4  249.8092                  9   \n",
              "1                 0         0.016055          4  250.2092                  7   \n",
              "2                 0         0.016019          4  248.5092                  6   \n",
              "3                 0         0.016088          4  249.6092                  3   \n",
              "4                 0         0.026818          4  248.9092                  0   \n",
              "\n",
              "   Outlet_Size  Outlet_Location_Type  Outlet_Type  Item_Outlet_Sales source  \\\n",
              "0            1                     0            1          3735.1380  Train   \n",
              "1            3                     1            1          5976.2208  Train   \n",
              "2            2                     1            1          6474.2392  Train   \n",
              "3            1                     2            2          5976.2208  Train   \n",
              "4            3                     2            0           498.0184  Train   \n",
              "\n",
              "   Item_Weight  age  item_idfy  \n",
              "0          9.3   14          1  \n",
              "1          9.3   11          1  \n",
              "2          9.3    9          1  \n",
              "3          9.3    4          1  \n",
              "4          9.3   15          1  "
            ],
            "text/html": [
              "\n",
              "  <div id=\"df-869d41d7-ba6c-481e-81b9-2e7d13b78e55\">\n",
              "    <div class=\"colab-df-container\">\n",
              "      <div>\n",
              "<style scoped>\n",
              "    .dataframe tbody tr th:only-of-type {\n",
              "        vertical-align: middle;\n",
              "    }\n",
              "\n",
              "    .dataframe tbody tr th {\n",
              "        vertical-align: top;\n",
              "    }\n",
              "\n",
              "    .dataframe thead th {\n",
              "        text-align: right;\n",
              "    }\n",
              "</style>\n",
              "<table border=\"1\" class=\"dataframe\">\n",
              "  <thead>\n",
              "    <tr style=\"text-align: right;\">\n",
              "      <th></th>\n",
              "      <th>Item_Fat_Content</th>\n",
              "      <th>Item_Visibility</th>\n",
              "      <th>Item_Type</th>\n",
              "      <th>Item_MRP</th>\n",
              "      <th>Outlet_Identifier</th>\n",
              "      <th>Outlet_Size</th>\n",
              "      <th>Outlet_Location_Type</th>\n",
              "      <th>Outlet_Type</th>\n",
              "      <th>Item_Outlet_Sales</th>\n",
              "      <th>source</th>\n",
              "      <th>Item_Weight</th>\n",
              "      <th>age</th>\n",
              "      <th>item_idfy</th>\n",
              "    </tr>\n",
              "  </thead>\n",
              "  <tbody>\n",
              "    <tr>\n",
              "      <th>0</th>\n",
              "      <td>0</td>\n",
              "      <td>0.016047</td>\n",
              "      <td>4</td>\n",
              "      <td>249.8092</td>\n",
              "      <td>9</td>\n",
              "      <td>1</td>\n",
              "      <td>0</td>\n",
              "      <td>1</td>\n",
              "      <td>3735.1380</td>\n",
              "      <td>Train</td>\n",
              "      <td>9.3</td>\n",
              "      <td>14</td>\n",
              "      <td>1</td>\n",
              "    </tr>\n",
              "    <tr>\n",
              "      <th>1</th>\n",
              "      <td>0</td>\n",
              "      <td>0.016055</td>\n",
              "      <td>4</td>\n",
              "      <td>250.2092</td>\n",
              "      <td>7</td>\n",
              "      <td>3</td>\n",
              "      <td>1</td>\n",
              "      <td>1</td>\n",
              "      <td>5976.2208</td>\n",
              "      <td>Train</td>\n",
              "      <td>9.3</td>\n",
              "      <td>11</td>\n",
              "      <td>1</td>\n",
              "    </tr>\n",
              "    <tr>\n",
              "      <th>2</th>\n",
              "      <td>0</td>\n",
              "      <td>0.016019</td>\n",
              "      <td>4</td>\n",
              "      <td>248.5092</td>\n",
              "      <td>6</td>\n",
              "      <td>2</td>\n",
              "      <td>1</td>\n",
              "      <td>1</td>\n",
              "      <td>6474.2392</td>\n",
              "      <td>Train</td>\n",
              "      <td>9.3</td>\n",
              "      <td>9</td>\n",
              "      <td>1</td>\n",
              "    </tr>\n",
              "    <tr>\n",
              "      <th>3</th>\n",
              "      <td>0</td>\n",
              "      <td>0.016088</td>\n",
              "      <td>4</td>\n",
              "      <td>249.6092</td>\n",
              "      <td>3</td>\n",
              "      <td>1</td>\n",
              "      <td>2</td>\n",
              "      <td>2</td>\n",
              "      <td>5976.2208</td>\n",
              "      <td>Train</td>\n",
              "      <td>9.3</td>\n",
              "      <td>4</td>\n",
              "      <td>1</td>\n",
              "    </tr>\n",
              "    <tr>\n",
              "      <th>4</th>\n",
              "      <td>0</td>\n",
              "      <td>0.026818</td>\n",
              "      <td>4</td>\n",
              "      <td>248.9092</td>\n",
              "      <td>0</td>\n",
              "      <td>3</td>\n",
              "      <td>2</td>\n",
              "      <td>0</td>\n",
              "      <td>498.0184</td>\n",
              "      <td>Train</td>\n",
              "      <td>9.3</td>\n",
              "      <td>15</td>\n",
              "      <td>1</td>\n",
              "    </tr>\n",
              "  </tbody>\n",
              "</table>\n",
              "</div>\n",
              "      <button class=\"colab-df-convert\" onclick=\"convertToInteractive('df-869d41d7-ba6c-481e-81b9-2e7d13b78e55')\"\n",
              "              title=\"Convert this dataframe to an interactive table.\"\n",
              "              style=\"display:none;\">\n",
              "        \n",
              "  <svg xmlns=\"http://www.w3.org/2000/svg\" height=\"24px\"viewBox=\"0 0 24 24\"\n",
              "       width=\"24px\">\n",
              "    <path d=\"M0 0h24v24H0V0z\" fill=\"none\"/>\n",
              "    <path d=\"M18.56 5.44l.94 2.06.94-2.06 2.06-.94-2.06-.94-.94-2.06-.94 2.06-2.06.94zm-11 1L8.5 8.5l.94-2.06 2.06-.94-2.06-.94L8.5 2.5l-.94 2.06-2.06.94zm10 10l.94 2.06.94-2.06 2.06-.94-2.06-.94-.94-2.06-.94 2.06-2.06.94z\"/><path d=\"M17.41 7.96l-1.37-1.37c-.4-.4-.92-.59-1.43-.59-.52 0-1.04.2-1.43.59L10.3 9.45l-7.72 7.72c-.78.78-.78 2.05 0 2.83L4 21.41c.39.39.9.59 1.41.59.51 0 1.02-.2 1.41-.59l7.78-7.78 2.81-2.81c.8-.78.8-2.07 0-2.86zM5.41 20L4 18.59l7.72-7.72 1.47 1.35L5.41 20z\"/>\n",
              "  </svg>\n",
              "      </button>\n",
              "      \n",
              "  <style>\n",
              "    .colab-df-container {\n",
              "      display:flex;\n",
              "      flex-wrap:wrap;\n",
              "      gap: 12px;\n",
              "    }\n",
              "\n",
              "    .colab-df-convert {\n",
              "      background-color: #E8F0FE;\n",
              "      border: none;\n",
              "      border-radius: 50%;\n",
              "      cursor: pointer;\n",
              "      display: none;\n",
              "      fill: #1967D2;\n",
              "      height: 32px;\n",
              "      padding: 0 0 0 0;\n",
              "      width: 32px;\n",
              "    }\n",
              "\n",
              "    .colab-df-convert:hover {\n",
              "      background-color: #E2EBFA;\n",
              "      box-shadow: 0px 1px 2px rgba(60, 64, 67, 0.3), 0px 1px 3px 1px rgba(60, 64, 67, 0.15);\n",
              "      fill: #174EA6;\n",
              "    }\n",
              "\n",
              "    [theme=dark] .colab-df-convert {\n",
              "      background-color: #3B4455;\n",
              "      fill: #D2E3FC;\n",
              "    }\n",
              "\n",
              "    [theme=dark] .colab-df-convert:hover {\n",
              "      background-color: #434B5C;\n",
              "      box-shadow: 0px 1px 3px 1px rgba(0, 0, 0, 0.15);\n",
              "      filter: drop-shadow(0px 1px 2px rgba(0, 0, 0, 0.3));\n",
              "      fill: #FFFFFF;\n",
              "    }\n",
              "  </style>\n",
              "\n",
              "      <script>\n",
              "        const buttonEl =\n",
              "          document.querySelector('#df-869d41d7-ba6c-481e-81b9-2e7d13b78e55 button.colab-df-convert');\n",
              "        buttonEl.style.display =\n",
              "          google.colab.kernel.accessAllowed ? 'block' : 'none';\n",
              "\n",
              "        async function convertToInteractive(key) {\n",
              "          const element = document.querySelector('#df-869d41d7-ba6c-481e-81b9-2e7d13b78e55');\n",
              "          const dataTable =\n",
              "            await google.colab.kernel.invokeFunction('convertToInteractive',\n",
              "                                                     [key], {});\n",
              "          if (!dataTable) return;\n",
              "\n",
              "          const docLinkHtml = 'Like what you see? Visit the ' +\n",
              "            '<a target=\"_blank\" href=https://colab.research.google.com/notebooks/data_table.ipynb>data table notebook</a>'\n",
              "            + ' to learn more about interactive tables.';\n",
              "          element.innerHTML = '';\n",
              "          dataTable['output_type'] = 'display_data';\n",
              "          await google.colab.output.renderOutput(dataTable, element);\n",
              "          const docLink = document.createElement('div');\n",
              "          docLink.innerHTML = docLinkHtml;\n",
              "          element.appendChild(docLink);\n",
              "        }\n",
              "      </script>\n",
              "    </div>\n",
              "  </div>\n",
              "  "
            ]
          },
          "metadata": {},
          "execution_count": 107
        }
      ]
    },
    {
      "cell_type": "code",
      "source": [
        "data_test=newdf1[newdf1.source=='Test']\n",
        "data_train=newdf1[newdf1.source=='Train']"
      ],
      "metadata": {
        "id": "g3R0pasZATIx"
      },
      "execution_count": 108,
      "outputs": []
    },
    {
      "cell_type": "code",
      "source": [
        "data_test.drop('Item_Outlet_Sales',axis=1,inplace=True)"
      ],
      "metadata": {
        "colab": {
          "base_uri": "https://localhost:8080/"
        },
        "id": "xuex0tiLBYj8",
        "outputId": "aa6784b9-7355-41aa-eafb-e91dd262f8a4"
      },
      "execution_count": 111,
      "outputs": [
        {
          "output_type": "stream",
          "name": "stderr",
          "text": [
            "/usr/local/lib/python3.7/dist-packages/pandas/core/frame.py:4913: SettingWithCopyWarning: \n",
            "A value is trying to be set on a copy of a slice from a DataFrame\n",
            "\n",
            "See the caveats in the documentation: https://pandas.pydata.org/pandas-docs/stable/user_guide/indexing.html#returning-a-view-versus-a-copy\n",
            "  errors=errors,\n"
          ]
        }
      ]
    },
    {
      "cell_type": "code",
      "source": [
        "data_test.info()"
      ],
      "metadata": {
        "colab": {
          "base_uri": "https://localhost:8080/"
        },
        "id": "m8fYVyfsBfib",
        "outputId": "c1ad3e83-aaaf-443f-dabe-830064fccff0"
      },
      "execution_count": 113,
      "outputs": [
        {
          "output_type": "stream",
          "name": "stdout",
          "text": [
            "<class 'pandas.core.frame.DataFrame'>\n",
            "Int64Index: 5681 entries, 8 to 14203\n",
            "Data columns (total 12 columns):\n",
            " #   Column                Non-Null Count  Dtype  \n",
            "---  ------                --------------  -----  \n",
            " 0   Item_Fat_Content      5681 non-null   int64  \n",
            " 1   Item_Visibility       5681 non-null   float64\n",
            " 2   Item_Type             5681 non-null   int64  \n",
            " 3   Item_MRP              5681 non-null   float64\n",
            " 4   Outlet_Identifier     5681 non-null   int64  \n",
            " 5   Outlet_Size           5681 non-null   int64  \n",
            " 6   Outlet_Location_Type  5681 non-null   int64  \n",
            " 7   Outlet_Type           5681 non-null   int64  \n",
            " 8   source                5681 non-null   object \n",
            " 9   Item_Weight           5681 non-null   float64\n",
            " 10  age                   5681 non-null   int64  \n",
            " 11  item_idfy             5681 non-null   int64  \n",
            "dtypes: float64(3), int64(8), object(1)\n",
            "memory usage: 577.0+ KB\n"
          ]
        }
      ]
    },
    {
      "cell_type": "code",
      "source": [
        "data_test.drop('source',axis=1,inplace=True)\n",
        "data_train.drop('source',axis=1,inplace=True)        "
      ],
      "metadata": {
        "colab": {
          "base_uri": "https://localhost:8080/"
        },
        "id": "QSleJugkBqn4",
        "outputId": "a73a245b-99b4-4345-ad85-9d4a19ab6740"
      },
      "execution_count": 114,
      "outputs": [
        {
          "output_type": "stream",
          "name": "stderr",
          "text": [
            "/usr/local/lib/python3.7/dist-packages/pandas/core/frame.py:4913: SettingWithCopyWarning: \n",
            "A value is trying to be set on a copy of a slice from a DataFrame\n",
            "\n",
            "See the caveats in the documentation: https://pandas.pydata.org/pandas-docs/stable/user_guide/indexing.html#returning-a-view-versus-a-copy\n",
            "  errors=errors,\n"
          ]
        }
      ]
    },
    {
      "cell_type": "code",
      "source": [
        "X=data_train.drop('Item_Outlet_Sales',axis=1)\n",
        "y=data_train['Item_Outlet_Sales']"
      ],
      "metadata": {
        "id": "-mDuvmWTB20V"
      },
      "execution_count": 115,
      "outputs": []
    },
    {
      "cell_type": "code",
      "source": [
        "from sklearn.model_selection import train_test_split\n",
        "X_train,X_test,y_train,y_test=train_test_split(X,y,train_size=0.8,random_state=42)"
      ],
      "metadata": {
        "id": "cKGnbvnTCLCF"
      },
      "execution_count": 118,
      "outputs": []
    },
    {
      "cell_type": "code",
      "source": [
        "from keras.models import Sequential\n",
        "from keras.layers import Dense,InputLayer\n",
        "\n"
      ],
      "metadata": {
        "id": "N2UMSt6FCiFX"
      },
      "execution_count": 121,
      "outputs": []
    },
    {
      "cell_type": "code",
      "source": [
        "Input_neurons=X_train.shape[1]\n",
        "hidden1=10\n",
        "hidden2=5\n",
        "output=1"
      ],
      "metadata": {
        "id": "XBevgQHxFN9A"
      },
      "execution_count": 123,
      "outputs": []
    },
    {
      "cell_type": "code",
      "source": [
        "model=Sequential()\n",
        "model.add(InputLayer(input_shape=(Input_neurons,)))\n",
        "model.add(Dense(hidden1,activation='relu'))\n",
        "model.add(Dense(hidden1,activation='relu'))\n",
        "model.add(Dense(hidden1,activation='relu'))\n",
        "model.add(Dense(hidden2,activation='relu'))\n",
        "model.add(Dense(output,activation='linear'))"
      ],
      "metadata": {
        "id": "csQ3xyfVEW8b"
      },
      "execution_count": 144,
      "outputs": []
    },
    {
      "cell_type": "code",
      "source": [
        "model.summary()"
      ],
      "metadata": {
        "colab": {
          "base_uri": "https://localhost:8080/"
        },
        "id": "FbFXcVEOFM00",
        "outputId": "f293dfeb-893a-42d3-d582-6824ee4c9ca9"
      },
      "execution_count": 145,
      "outputs": [
        {
          "output_type": "stream",
          "name": "stdout",
          "text": [
            "Model: \"sequential_2\"\n",
            "_________________________________________________________________\n",
            " Layer (type)                Output Shape              Param #   \n",
            "=================================================================\n",
            " dense_3 (Dense)             (None, 10)                120       \n",
            "                                                                 \n",
            " dense_4 (Dense)             (None, 10)                110       \n",
            "                                                                 \n",
            " dense_5 (Dense)             (None, 10)                110       \n",
            "                                                                 \n",
            " dense_6 (Dense)             (None, 5)                 55        \n",
            "                                                                 \n",
            " dense_7 (Dense)             (None, 1)                 6         \n",
            "                                                                 \n",
            "=================================================================\n",
            "Total params: 401\n",
            "Trainable params: 401\n",
            "Non-trainable params: 0\n",
            "_________________________________________________________________\n"
          ]
        }
      ]
    },
    {
      "cell_type": "code",
      "source": [
        "\n",
        "model.compile(loss='mean_squared_error', optimizer='adam', metrics=['mean_squared_error'])"
      ],
      "metadata": {
        "id": "nNvdCfNVF5PA"
      },
      "execution_count": 150,
      "outputs": []
    },
    {
      "cell_type": "code",
      "source": [
        "hist=model.fit(X_train,y_train,validation_data=(X_test,y_test),epochs=50)"
      ],
      "metadata": {
        "colab": {
          "base_uri": "https://localhost:8080/"
        },
        "id": "hAFPacSbGGw5",
        "outputId": "cefb33ea-1610-4bd9-f386-fc3b51234c49"
      },
      "execution_count": 151,
      "outputs": [
        {
          "output_type": "stream",
          "name": "stdout",
          "text": [
            "Epoch 1/50\n",
            "214/214 [==============================] - 1s 3ms/step - loss: 7308897.5000 - mean_squared_error: 7308897.5000 - val_loss: 5106431.5000 - val_mean_squared_error: 5106431.5000\n",
            "Epoch 2/50\n",
            "214/214 [==============================] - 1s 3ms/step - loss: 2565768.0000 - mean_squared_error: 2565768.0000 - val_loss: 1911402.2500 - val_mean_squared_error: 1911402.2500\n",
            "Epoch 3/50\n",
            "214/214 [==============================] - 1s 3ms/step - loss: 1996474.1250 - mean_squared_error: 1996474.1250 - val_loss: 1896414.8750 - val_mean_squared_error: 1896414.8750\n",
            "Epoch 4/50\n",
            "214/214 [==============================] - 1s 3ms/step - loss: 1978574.2500 - mean_squared_error: 1978574.2500 - val_loss: 1878404.6250 - val_mean_squared_error: 1878404.6250\n",
            "Epoch 5/50\n",
            "214/214 [==============================] - 1s 3ms/step - loss: 1953873.2500 - mean_squared_error: 1953873.2500 - val_loss: 1855362.5000 - val_mean_squared_error: 1855362.5000\n",
            "Epoch 6/50\n",
            "214/214 [==============================] - 1s 3ms/step - loss: 1925964.1250 - mean_squared_error: 1925964.1250 - val_loss: 1829636.7500 - val_mean_squared_error: 1829636.7500\n",
            "Epoch 7/50\n",
            "214/214 [==============================] - 1s 2ms/step - loss: 1893426.6250 - mean_squared_error: 1893426.6250 - val_loss: 1797543.6250 - val_mean_squared_error: 1797543.6250\n",
            "Epoch 8/50\n",
            "214/214 [==============================] - 1s 3ms/step - loss: 1851646.7500 - mean_squared_error: 1851646.7500 - val_loss: 1772528.3750 - val_mean_squared_error: 1772528.3750\n",
            "Epoch 9/50\n",
            "214/214 [==============================] - 1s 3ms/step - loss: 1808245.5000 - mean_squared_error: 1808245.5000 - val_loss: 1722494.6250 - val_mean_squared_error: 1722494.6250\n",
            "Epoch 10/50\n",
            "214/214 [==============================] - 1s 2ms/step - loss: 1758707.3750 - mean_squared_error: 1758707.3750 - val_loss: 1663567.7500 - val_mean_squared_error: 1663567.7500\n",
            "Epoch 11/50\n",
            "214/214 [==============================] - 1s 2ms/step - loss: 1701097.1250 - mean_squared_error: 1701097.1250 - val_loss: 1624729.2500 - val_mean_squared_error: 1624729.2500\n",
            "Epoch 12/50\n",
            "214/214 [==============================] - 1s 3ms/step - loss: 1643533.5000 - mean_squared_error: 1643533.5000 - val_loss: 1585375.3750 - val_mean_squared_error: 1585375.3750\n",
            "Epoch 13/50\n",
            "214/214 [==============================] - 1s 2ms/step - loss: 1587569.5000 - mean_squared_error: 1587569.5000 - val_loss: 1515858.7500 - val_mean_squared_error: 1515858.7500\n",
            "Epoch 14/50\n",
            "214/214 [==============================] - 1s 2ms/step - loss: 1537058.2500 - mean_squared_error: 1537058.2500 - val_loss: 1471420.3750 - val_mean_squared_error: 1471420.3750\n",
            "Epoch 15/50\n",
            "214/214 [==============================] - 1s 3ms/step - loss: 1493264.7500 - mean_squared_error: 1493264.7500 - val_loss: 1439690.1250 - val_mean_squared_error: 1439690.1250\n",
            "Epoch 16/50\n",
            "214/214 [==============================] - 1s 3ms/step - loss: 1455393.3750 - mean_squared_error: 1455393.3750 - val_loss: 1444137.5000 - val_mean_squared_error: 1444137.5000\n",
            "Epoch 17/50\n",
            "214/214 [==============================] - 1s 3ms/step - loss: 1439026.0000 - mean_squared_error: 1439026.0000 - val_loss: 1393873.2500 - val_mean_squared_error: 1393873.2500\n",
            "Epoch 18/50\n",
            "214/214 [==============================] - 1s 3ms/step - loss: 1408888.5000 - mean_squared_error: 1408888.5000 - val_loss: 1368762.0000 - val_mean_squared_error: 1368762.0000\n",
            "Epoch 19/50\n",
            "214/214 [==============================] - 1s 2ms/step - loss: 1397461.7500 - mean_squared_error: 1397461.7500 - val_loss: 1381836.2500 - val_mean_squared_error: 1381836.2500\n",
            "Epoch 20/50\n",
            "214/214 [==============================] - 1s 2ms/step - loss: 1373607.1250 - mean_squared_error: 1373607.1250 - val_loss: 1336146.6250 - val_mean_squared_error: 1336146.6250\n",
            "Epoch 21/50\n",
            "214/214 [==============================] - 1s 3ms/step - loss: 1354116.8750 - mean_squared_error: 1354116.8750 - val_loss: 1311046.2500 - val_mean_squared_error: 1311046.2500\n",
            "Epoch 22/50\n",
            "214/214 [==============================] - 1s 3ms/step - loss: 1338736.6250 - mean_squared_error: 1338736.6250 - val_loss: 1292319.2500 - val_mean_squared_error: 1292319.2500\n",
            "Epoch 23/50\n",
            "214/214 [==============================] - 1s 3ms/step - loss: 1316911.6250 - mean_squared_error: 1316911.6250 - val_loss: 1285557.2500 - val_mean_squared_error: 1285557.2500\n",
            "Epoch 24/50\n",
            "214/214 [==============================] - 1s 2ms/step - loss: 1304438.1250 - mean_squared_error: 1304438.1250 - val_loss: 1259106.6250 - val_mean_squared_error: 1259106.6250\n",
            "Epoch 25/50\n",
            "214/214 [==============================] - 1s 3ms/step - loss: 1291877.1250 - mean_squared_error: 1291877.1250 - val_loss: 1256830.3750 - val_mean_squared_error: 1256830.3750\n",
            "Epoch 26/50\n",
            "214/214 [==============================] - 1s 3ms/step - loss: 1277907.3750 - mean_squared_error: 1277907.3750 - val_loss: 1242368.2500 - val_mean_squared_error: 1242368.2500\n",
            "Epoch 27/50\n",
            "214/214 [==============================] - 1s 3ms/step - loss: 1274356.0000 - mean_squared_error: 1274356.0000 - val_loss: 1228396.8750 - val_mean_squared_error: 1228396.8750\n",
            "Epoch 28/50\n",
            "214/214 [==============================] - 1s 2ms/step - loss: 1262578.7500 - mean_squared_error: 1262578.7500 - val_loss: 1213541.3750 - val_mean_squared_error: 1213541.3750\n",
            "Epoch 29/50\n",
            "214/214 [==============================] - 1s 3ms/step - loss: 1262168.7500 - mean_squared_error: 1262168.7500 - val_loss: 1211034.8750 - val_mean_squared_error: 1211034.8750\n",
            "Epoch 30/50\n",
            "214/214 [==============================] - 1s 3ms/step - loss: 1255820.6250 - mean_squared_error: 1255820.6250 - val_loss: 1211341.8750 - val_mean_squared_error: 1211341.8750\n",
            "Epoch 31/50\n",
            "214/214 [==============================] - 1s 3ms/step - loss: 1252914.3750 - mean_squared_error: 1252914.3750 - val_loss: 1198857.5000 - val_mean_squared_error: 1198857.5000\n",
            "Epoch 32/50\n",
            "214/214 [==============================] - 1s 3ms/step - loss: 1251434.1250 - mean_squared_error: 1251434.1250 - val_loss: 1193002.6250 - val_mean_squared_error: 1193002.6250\n",
            "Epoch 33/50\n",
            "214/214 [==============================] - 1s 3ms/step - loss: 1245539.5000 - mean_squared_error: 1245539.5000 - val_loss: 1192431.3750 - val_mean_squared_error: 1192431.3750\n",
            "Epoch 34/50\n",
            "214/214 [==============================] - 1s 3ms/step - loss: 1248105.3750 - mean_squared_error: 1248105.3750 - val_loss: 1205760.1250 - val_mean_squared_error: 1205760.1250\n",
            "Epoch 35/50\n",
            "214/214 [==============================] - 1s 3ms/step - loss: 1245123.8750 - mean_squared_error: 1245123.8750 - val_loss: 1208200.0000 - val_mean_squared_error: 1208200.0000\n",
            "Epoch 36/50\n",
            "214/214 [==============================] - 1s 3ms/step - loss: 1239985.0000 - mean_squared_error: 1239985.0000 - val_loss: 1187954.5000 - val_mean_squared_error: 1187954.5000\n",
            "Epoch 37/50\n",
            "214/214 [==============================] - 1s 3ms/step - loss: 1241192.2500 - mean_squared_error: 1241192.2500 - val_loss: 1199186.7500 - val_mean_squared_error: 1199186.7500\n",
            "Epoch 38/50\n",
            "214/214 [==============================] - 1s 3ms/step - loss: 1243867.7500 - mean_squared_error: 1243867.7500 - val_loss: 1185116.1250 - val_mean_squared_error: 1185116.1250\n",
            "Epoch 39/50\n",
            "214/214 [==============================] - 1s 3ms/step - loss: 1239551.3750 - mean_squared_error: 1239551.3750 - val_loss: 1179870.5000 - val_mean_squared_error: 1179870.5000\n",
            "Epoch 40/50\n",
            "214/214 [==============================] - 1s 2ms/step - loss: 1234656.2500 - mean_squared_error: 1234656.2500 - val_loss: 1185368.5000 - val_mean_squared_error: 1185368.5000\n",
            "Epoch 41/50\n",
            "214/214 [==============================] - 1s 3ms/step - loss: 1230439.0000 - mean_squared_error: 1230439.0000 - val_loss: 1174207.6250 - val_mean_squared_error: 1174207.6250\n",
            "Epoch 42/50\n",
            "214/214 [==============================] - 1s 3ms/step - loss: 1232303.7500 - mean_squared_error: 1232303.7500 - val_loss: 1183663.7500 - val_mean_squared_error: 1183663.7500\n",
            "Epoch 43/50\n",
            "214/214 [==============================] - 1s 3ms/step - loss: 1232057.1250 - mean_squared_error: 1232057.1250 - val_loss: 1170680.7500 - val_mean_squared_error: 1170680.7500\n",
            "Epoch 44/50\n",
            "214/214 [==============================] - 1s 2ms/step - loss: 1226965.0000 - mean_squared_error: 1226965.0000 - val_loss: 1180103.2500 - val_mean_squared_error: 1180103.2500\n",
            "Epoch 45/50\n",
            "214/214 [==============================] - 1s 3ms/step - loss: 1239492.6250 - mean_squared_error: 1239492.6250 - val_loss: 1181976.0000 - val_mean_squared_error: 1181976.0000\n",
            "Epoch 46/50\n",
            "214/214 [==============================] - 1s 3ms/step - loss: 1228134.7500 - mean_squared_error: 1228134.7500 - val_loss: 1174270.0000 - val_mean_squared_error: 1174270.0000\n",
            "Epoch 47/50\n",
            "214/214 [==============================] - 1s 4ms/step - loss: 1225962.2500 - mean_squared_error: 1225962.2500 - val_loss: 1172186.5000 - val_mean_squared_error: 1172186.5000\n",
            "Epoch 48/50\n",
            "214/214 [==============================] - 1s 5ms/step - loss: 1227905.7500 - mean_squared_error: 1227905.7500 - val_loss: 1168875.7500 - val_mean_squared_error: 1168875.7500\n",
            "Epoch 49/50\n",
            "214/214 [==============================] - 1s 7ms/step - loss: 1224269.2500 - mean_squared_error: 1224269.2500 - val_loss: 1172958.2500 - val_mean_squared_error: 1172958.2500\n",
            "Epoch 50/50\n",
            "214/214 [==============================] - 1s 6ms/step - loss: 1219492.1250 - mean_squared_error: 1219492.1250 - val_loss: 1165279.2500 - val_mean_squared_error: 1165279.2500\n"
          ]
        }
      ]
    },
    {
      "cell_type": "code",
      "source": [
        "predictions=model.predict(X_test)"
      ],
      "metadata": {
        "id": "l6_8y_HhGfDd"
      },
      "execution_count": 152,
      "outputs": []
    },
    {
      "cell_type": "code",
      "source": [
        "from sklearn.metrics import mean_squared_error\n",
        "print(np.sqrt(mean_squared_error(predictions,y_test)))"
      ],
      "metadata": {
        "colab": {
          "base_uri": "https://localhost:8080/"
        },
        "id": "SR3wf2ryHPzv",
        "outputId": "22b351fb-0069-4fa3-8fad-14315cd4a9be"
      },
      "execution_count": 153,
      "outputs": [
        {
          "output_type": "stream",
          "name": "stdout",
          "text": [
            "1079.4809739917648\n"
          ]
        }
      ]
    },
    {
      "cell_type": "code",
      "source": [
        "plt.plot(hist.history['mean_squared_error'])\n",
        "plt.plot(hist.history['val_mean_squared_error'])"
      ],
      "metadata": {
        "colab": {
          "base_uri": "https://localhost:8080/",
          "height": 293
        },
        "id": "8CMUxcWyIL18",
        "outputId": "878d9343-5d7b-434d-e900-b3d3c96a8b85"
      },
      "execution_count": 154,
      "outputs": [
        {
          "output_type": "execute_result",
          "data": {
            "text/plain": [
              "[<matplotlib.lines.Line2D at 0x7f8736557bd0>]"
            ]
          },
          "metadata": {},
          "execution_count": 154
        },
        {
          "output_type": "display_data",
          "data": {
            "text/plain": [
              "<Figure size 432x288 with 1 Axes>"
            ],
            "image/png": "[encoded data removed]"
          },
          "metadata": {
            "needs_background": "light"
          }
        }
      ]
    },
    {
      "cell_type": "code",
      "source": [
        "plt.plot(hist.history['loss'])\n",
        "plt.plot(hist.history['val_loss'])"
      ],
      "metadata": {
        "colab": {
          "base_uri": "https://localhost:8080/",
          "height": 293
        },
        "id": "1343aL1iIvLB",
        "outputId": "8441a2f6-d975-4c72-b9af-401f4694103b"
      },
      "execution_count": 155,
      "outputs": [
        {
          "output_type": "execute_result",
          "data": {
            "text/plain": [
              "[<matplotlib.lines.Line2D at 0x7f8736602690>]"
            ]
          },
          "metadata": {},
          "execution_count": 155
        },
        {
          "output_type": "display_data",
          "data": {
            "text/plain": [
              "<Figure size 432x288 with 1 Axes>"
            ],
            "image/png": "[encoded data removed]"
          },
          "metadata": {
            "needs_background": "light"
          }
        }
      ]
    },
    {
      "cell_type": "code",
      "source": [
        "predic=model.predict(data_test)"
      ],
      "metadata": {
        "id": "vySNrn1aI9tf"
      },
      "execution_count": 156,
      "outputs": []
    },
    {
      "cell_type": "code",
      "source": [
        "output_df=pd.DataFrame(columns=['Item_Identifier','Outlet_Identifier','Item_Outlet_Sales'])\n",
        "output_df['Item_Identifier']=df1['Item_Identifier']\n",
        "output_df['Outlet_Identifier']=df1['Outlet_Identifier']\n",
        "output_df['Item_Outlet_Sales']=predic"
      ],
      "metadata": {
        "id": "CdEH4ZnTJPv1"
      },
      "execution_count": 157,
      "outputs": []
    },
    {
      "cell_type": "code",
      "source": [
        "output_df.to_csv('output.csv')"
      ],
      "metadata": {
        "id": "jCccb8j8KsCM"
      },
      "execution_count": 159,
      "outputs": []
    },
    {
      "cell_type": "code",
      "source": [],
      "metadata": {
        "id": "m2O2YncsLQWK"
      },
      "execution_count": null,
      "outputs": []
    }
  ]
}